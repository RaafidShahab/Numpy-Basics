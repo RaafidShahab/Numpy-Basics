{
 "cells": [
  {
   "cell_type": "markdown",
   "id": "0f0aef07",
   "metadata": {},
   "source": [
    "## Numpy Revision by Raafid Shahab"
   ]
  },
  {
   "cell_type": "markdown",
   "id": "c7fc27e4",
   "metadata": {},
   "source": [
    "# 1. Five methods of Array Creation"
   ]
  },
  {
   "cell_type": "code",
   "execution_count": 1,
   "id": "c89f342f",
   "metadata": {},
   "outputs": [],
   "source": [
    "import numpy as np"
   ]
  },
  {
   "cell_type": "markdown",
   "id": "553fbf64",
   "metadata": {},
   "source": [
    "### 1.1) np.array()"
   ]
  },
  {
   "cell_type": "code",
   "execution_count": 2,
   "id": "58bc66e7",
   "metadata": {},
   "outputs": [
    {
     "data": {
      "text/plain": [
       "array([1, 2, 3, 4, 5])"
      ]
     },
     "execution_count": 2,
     "metadata": {},
     "output_type": "execute_result"
    }
   ],
   "source": [
    "#1-D Array\n",
    "arr1 = np.array([1,2,3,4,5])\n",
    "arr1"
   ]
  },
  {
   "cell_type": "code",
   "execution_count": 3,
   "id": "c4e95622",
   "metadata": {},
   "outputs": [
    {
     "data": {
      "text/plain": [
       "array([[1, 2, 3],\n",
       "       [4, 5, 6]])"
      ]
     },
     "execution_count": 3,
     "metadata": {},
     "output_type": "execute_result"
    }
   ],
   "source": [
    "#2-D Array\n",
    "arr2 = np.array([[1,2,3],[4,5,6]])\n",
    "arr2"
   ]
  },
  {
   "cell_type": "code",
   "execution_count": 4,
   "id": "60891b2b",
   "metadata": {},
   "outputs": [
    {
     "data": {
      "text/plain": [
       "array([[[1, 2],\n",
       "        [3, 4]],\n",
       "\n",
       "       [[5, 6],\n",
       "        [7, 8]]])"
      ]
     },
     "execution_count": 4,
     "metadata": {},
     "output_type": "execute_result"
    }
   ],
   "source": [
    "#3-D Array\n",
    "arr = np.array([[[1,2],[3,4]],[[5,6],[7,8]]])\n",
    "arr"
   ]
  },
  {
   "cell_type": "markdown",
   "id": "e350d55e",
   "metadata": {},
   "source": [
    "### 1.2) np.zeros(), np.ones(), np.identity()"
   ]
  },
  {
   "cell_type": "code",
   "execution_count": 5,
   "id": "1bdf6164",
   "metadata": {},
   "outputs": [
    {
     "data": {
      "text/plain": [
       "array([[0., 0., 0.],\n",
       "       [0., 0., 0.]])"
      ]
     },
     "execution_count": 5,
     "metadata": {},
     "output_type": "execute_result"
    }
   ],
   "source": [
    "arr3 = np.zeros((2,3))\n",
    "arr3"
   ]
  },
  {
   "cell_type": "code",
   "execution_count": 6,
   "id": "5cf26703",
   "metadata": {},
   "outputs": [
    {
     "data": {
      "text/plain": [
       "array([[[1., 1.],\n",
       "        [1., 1.]],\n",
       "\n",
       "       [[1., 1.],\n",
       "        [1., 1.]],\n",
       "\n",
       "       [[1., 1.],\n",
       "        [1., 1.]]])"
      ]
     },
     "execution_count": 6,
     "metadata": {},
     "output_type": "execute_result"
    }
   ],
   "source": [
    "arr4 = np.ones((3,2,2))\n",
    "arr4"
   ]
  },
  {
   "cell_type": "code",
   "execution_count": 7,
   "id": "b62267fd",
   "metadata": {},
   "outputs": [
    {
     "data": {
      "text/plain": [
       "array([[1., 0., 0., 0., 0.],\n",
       "       [0., 1., 0., 0., 0.],\n",
       "       [0., 0., 1., 0., 0.],\n",
       "       [0., 0., 0., 1., 0.],\n",
       "       [0., 0., 0., 0., 1.]])"
      ]
     },
     "execution_count": 7,
     "metadata": {},
     "output_type": "execute_result"
    }
   ],
   "source": [
    "arr5 = np.identity(5)\n",
    "arr5"
   ]
  },
  {
   "cell_type": "markdown",
   "id": "e83eb1d1",
   "metadata": {},
   "source": [
    "### 1.3) np.arange()"
   ]
  },
  {
   "cell_type": "code",
   "execution_count": 8,
   "id": "3bdcc8ff",
   "metadata": {},
   "outputs": [
    {
     "data": {
      "text/plain": [
       "array([0, 1, 2, 3, 4, 5, 6, 7, 8, 9])"
      ]
     },
     "execution_count": 8,
     "metadata": {},
     "output_type": "execute_result"
    }
   ],
   "source": [
    "arr6 = np.arange(10)\n",
    "arr6"
   ]
  },
  {
   "cell_type": "markdown",
   "id": "766016ed",
   "metadata": {},
   "source": [
    "### 1.4) np.linspace()"
   ]
  },
  {
   "cell_type": "code",
   "execution_count": 9,
   "id": "cbda68c1",
   "metadata": {},
   "outputs": [
    {
     "data": {
      "text/plain": [
       "array([10., 15., 20., 25., 30.])"
      ]
     },
     "execution_count": 9,
     "metadata": {},
     "output_type": "execute_result"
    }
   ],
   "source": [
    "arr7 = np.linspace(10,30,5)\n",
    "arr7"
   ]
  },
  {
   "cell_type": "markdown",
   "id": "680050ee",
   "metadata": {},
   "source": [
    "### 1.5) arr.copy()"
   ]
  },
  {
   "cell_type": "code",
   "execution_count": 10,
   "id": "2a1ce564",
   "metadata": {},
   "outputs": [
    {
     "data": {
      "text/plain": [
       "array([10., 15., 20., 25., 30.])"
      ]
     },
     "execution_count": 10,
     "metadata": {},
     "output_type": "execute_result"
    }
   ],
   "source": [
    "arr8 = arr7.copy()\n",
    "arr8"
   ]
  },
  {
   "cell_type": "markdown",
   "id": "eb7fb415",
   "metadata": {},
   "source": [
    "# 2. Six Attributes"
   ]
  },
  {
   "cell_type": "markdown",
   "id": "867fbc8f",
   "metadata": {},
   "source": [
    "### arr.shape, arr.ndim, arr.size, arr.itemsize, arr.dtype, arr.astype()*"
   ]
  },
  {
   "cell_type": "code",
   "execution_count": 11,
   "id": "d6c82a7a",
   "metadata": {},
   "outputs": [
    {
     "data": {
      "text/plain": [
       "array([[1, 2, 3],\n",
       "       [4, 5, 6]])"
      ]
     },
     "execution_count": 11,
     "metadata": {},
     "output_type": "execute_result"
    }
   ],
   "source": [
    "arr2"
   ]
  },
  {
   "cell_type": "code",
   "execution_count": 12,
   "id": "4b4a3b59",
   "metadata": {},
   "outputs": [
    {
     "data": {
      "text/plain": [
       "array([[[1., 1.],\n",
       "        [1., 1.]],\n",
       "\n",
       "       [[1., 1.],\n",
       "        [1., 1.]],\n",
       "\n",
       "       [[1., 1.],\n",
       "        [1., 1.]]])"
      ]
     },
     "execution_count": 12,
     "metadata": {},
     "output_type": "execute_result"
    }
   ],
   "source": [
    "arr4"
   ]
  },
  {
   "cell_type": "code",
   "execution_count": 13,
   "id": "227b1377",
   "metadata": {},
   "outputs": [
    {
     "data": {
      "text/plain": [
       "(2, 3)"
      ]
     },
     "execution_count": 13,
     "metadata": {},
     "output_type": "execute_result"
    }
   ],
   "source": [
    "arr2.shape\n",
    "#gives shape, no of rows and columns"
   ]
  },
  {
   "cell_type": "code",
   "execution_count": 14,
   "id": "087fb0bc",
   "metadata": {},
   "outputs": [
    {
     "data": {
      "text/plain": [
       "(3, 2, 2)"
      ]
     },
     "execution_count": 14,
     "metadata": {},
     "output_type": "execute_result"
    }
   ],
   "source": [
    "arr4.shape"
   ]
  },
  {
   "cell_type": "code",
   "execution_count": 15,
   "id": "07369f60",
   "metadata": {},
   "outputs": [
    {
     "data": {
      "text/plain": [
       "2"
      ]
     },
     "execution_count": 15,
     "metadata": {},
     "output_type": "execute_result"
    }
   ],
   "source": [
    "arr2.ndim\n",
    "#gives the dimension of array"
   ]
  },
  {
   "cell_type": "code",
   "execution_count": 16,
   "id": "9fdc1a59",
   "metadata": {},
   "outputs": [
    {
     "data": {
      "text/plain": [
       "3"
      ]
     },
     "execution_count": 16,
     "metadata": {},
     "output_type": "execute_result"
    }
   ],
   "source": [
    "arr4.ndim"
   ]
  },
  {
   "cell_type": "code",
   "execution_count": 17,
   "id": "2b4afbb2",
   "metadata": {},
   "outputs": [
    {
     "data": {
      "text/plain": [
       "6"
      ]
     },
     "execution_count": 17,
     "metadata": {},
     "output_type": "execute_result"
    }
   ],
   "source": [
    "arr2.size\n",
    "#gives no pf elements in an array"
   ]
  },
  {
   "cell_type": "code",
   "execution_count": 18,
   "id": "335707b9",
   "metadata": {},
   "outputs": [
    {
     "data": {
      "text/plain": [
       "4"
      ]
     },
     "execution_count": 18,
     "metadata": {},
     "output_type": "execute_result"
    }
   ],
   "source": [
    "arr2.itemsize #int= 4\n",
    "#gives size of each element of an array"
   ]
  },
  {
   "cell_type": "code",
   "execution_count": 19,
   "id": "4456493f",
   "metadata": {},
   "outputs": [
    {
     "data": {
      "text/plain": [
       "8"
      ]
     },
     "execution_count": 19,
     "metadata": {},
     "output_type": "execute_result"
    }
   ],
   "source": [
    "arr4.itemsize\n",
    "#float= 8"
   ]
  },
  {
   "cell_type": "code",
   "execution_count": 20,
   "id": "6eb1b8ce",
   "metadata": {},
   "outputs": [
    {
     "data": {
      "text/plain": [
       "dtype('int32')"
      ]
     },
     "execution_count": 20,
     "metadata": {},
     "output_type": "execute_result"
    }
   ],
   "source": [
    "arr2.dtype"
   ]
  },
  {
   "cell_type": "code",
   "execution_count": 21,
   "id": "05de628d",
   "metadata": {},
   "outputs": [
    {
     "data": {
      "text/plain": [
       "dtype('float64')"
      ]
     },
     "execution_count": 21,
     "metadata": {},
     "output_type": "execute_result"
    }
   ],
   "source": [
    "arr4.dtype"
   ]
  },
  {
   "cell_type": "code",
   "execution_count": 22,
   "id": "fe0e3f34",
   "metadata": {},
   "outputs": [
    {
     "data": {
      "text/plain": [
       "array([[1., 2., 3.],\n",
       "       [4., 5., 6.]])"
      ]
     },
     "execution_count": 22,
     "metadata": {},
     "output_type": "execute_result"
    }
   ],
   "source": [
    "arr2.astype('float')\n",
    "#this is function, converts data type"
   ]
  },
  {
   "cell_type": "markdown",
   "id": "de2ab531",
   "metadata": {},
   "source": [
    "# 3. Numpy Array vs Pyhton Lists"
   ]
  },
  {
   "cell_type": "markdown",
   "id": "ec41da36",
   "metadata": {},
   "source": [
    "- Faster\n",
    "- Convinient\n",
    "- Less Memory"
   ]
  },
  {
   "cell_type": "code",
   "execution_count": 23,
   "id": "f9a16b0c",
   "metadata": {},
   "outputs": [
    {
     "name": "stdout",
     "output_type": "stream",
     "text": [
      "0.03002309799194336\n"
     ]
    }
   ],
   "source": [
    "#Proof of Faster & Convinient\n",
    "\n",
    "#Python List\n",
    "import time as t\n",
    "x = range(100000)\n",
    "y= range(1000000,2000000)\n",
    "start_time = t.time()\n",
    "c = [(x,y) for x,y in zip(x,y)]\n",
    "print(t.time() - start_time)"
   ]
  },
  {
   "cell_type": "code",
   "execution_count": 24,
   "id": "4bf9608d",
   "metadata": {},
   "outputs": [
    {
     "name": "stdout",
     "output_type": "stream",
     "text": [
      "0.004000186920166016\n"
     ]
    }
   ],
   "source": [
    "#Numpy Array\n",
    "a= np.arange(100000)\n",
    "b= np.arange(100000,200000)\n",
    "start_time = t.time()\n",
    "c = a+ b #proof of convinient Mathematical Operations\n",
    "print(t.time() - start_time)"
   ]
  },
  {
   "cell_type": "markdown",
   "id": "a1544b10",
   "metadata": {},
   "source": [
    "# 4. Indexing, slicing and iteration"
   ]
  },
  {
   "cell_type": "code",
   "execution_count": 25,
   "id": "fbbecdf3",
   "metadata": {},
   "outputs": [
    {
     "data": {
      "text/plain": [
       "array([1, 2, 3, 4, 5])"
      ]
     },
     "execution_count": 25,
     "metadata": {},
     "output_type": "execute_result"
    }
   ],
   "source": [
    "arr1"
   ]
  },
  {
   "cell_type": "code",
   "execution_count": 26,
   "id": "38199c51",
   "metadata": {},
   "outputs": [
    {
     "data": {
      "text/plain": [
       "array([[ 0,  1,  2,  3],\n",
       "       [ 4,  5,  6,  7],\n",
       "       [ 8,  9, 10, 11],\n",
       "       [12, 13, 14, 15],\n",
       "       [16, 17, 18, 19],\n",
       "       [20, 21, 22, 23]])"
      ]
     },
     "execution_count": 26,
     "metadata": {},
     "output_type": "execute_result"
    }
   ],
   "source": [
    "arr12 = np.arange(24).reshape(6,4)\n",
    "arr12"
   ]
  },
  {
   "cell_type": "code",
   "execution_count": 27,
   "id": "323872cc",
   "metadata": {},
   "outputs": [
    {
     "data": {
      "text/plain": [
       "4"
      ]
     },
     "execution_count": 27,
     "metadata": {},
     "output_type": "execute_result"
    }
   ],
   "source": [
    "arr1[3]\n",
    "#gives the element at index 3"
   ]
  },
  {
   "cell_type": "code",
   "execution_count": 28,
   "id": "c63de2ee",
   "metadata": {},
   "outputs": [
    {
     "data": {
      "text/plain": [
       "5"
      ]
     },
     "execution_count": 28,
     "metadata": {},
     "output_type": "execute_result"
    }
   ],
   "source": [
    "arr1[-1]\n",
    "#gives the last element"
   ]
  },
  {
   "cell_type": "code",
   "execution_count": 29,
   "id": "84a18ad5",
   "metadata": {},
   "outputs": [
    {
     "data": {
      "text/plain": [
       "array([12, 13, 14, 15])"
      ]
     },
     "execution_count": 29,
     "metadata": {},
     "output_type": "execute_result"
    }
   ],
   "source": [
    "arr12[3]\n",
    "# for 2D array, the first index identifies row"
   ]
  },
  {
   "cell_type": "code",
   "execution_count": 30,
   "id": "0ad83f1f",
   "metadata": {},
   "outputs": [
    {
     "data": {
      "text/plain": [
       "array([ 2,  6, 10, 14, 18, 22])"
      ]
     },
     "execution_count": 30,
     "metadata": {},
     "output_type": "execute_result"
    }
   ],
   "source": [
    "arr12[:,2]\n",
    "#all rows, 3rd column"
   ]
  },
  {
   "cell_type": "code",
   "execution_count": 31,
   "id": "a36bba20",
   "metadata": {},
   "outputs": [
    {
     "data": {
      "text/plain": [
       "array([[ 9, 10, 11],\n",
       "       [13, 14, 15]])"
      ]
     },
     "execution_count": 31,
     "metadata": {},
     "output_type": "execute_result"
    }
   ],
   "source": [
    "arr12[2:4,1:4]\n",
    "#slicing"
   ]
  },
  {
   "cell_type": "code",
   "execution_count": 32,
   "id": "29ec084e",
   "metadata": {},
   "outputs": [
    {
     "name": "stdout",
     "output_type": "stream",
     "text": [
      "[0 1 2 3]\n",
      "[4 5 6 7]\n",
      "[ 8  9 10 11]\n",
      "[12 13 14 15]\n",
      "[16 17 18 19]\n",
      "[20 21 22 23]\n"
     ]
    }
   ],
   "source": [
    "for i in arr12:\n",
    "    print(i)"
   ]
  },
  {
   "cell_type": "code",
   "execution_count": 33,
   "id": "3ace13b5",
   "metadata": {},
   "outputs": [
    {
     "name": "stdout",
     "output_type": "stream",
     "text": [
      "0\n",
      "1\n",
      "2\n",
      "3\n",
      "4\n",
      "5\n",
      "6\n",
      "7\n",
      "8\n",
      "9\n",
      "10\n",
      "11\n",
      "12\n",
      "13\n",
      "14\n",
      "15\n",
      "16\n",
      "17\n",
      "18\n",
      "19\n",
      "20\n",
      "21\n",
      "22\n",
      "23\n"
     ]
    }
   ],
   "source": [
    "for i in np.nditer(arr12):\n",
    "    print(i)"
   ]
  },
  {
   "cell_type": "markdown",
   "id": "88f8d756",
   "metadata": {},
   "source": [
    "# 5. Numpy Operations"
   ]
  },
  {
   "cell_type": "code",
   "execution_count": 34,
   "id": "16f9b8a3",
   "metadata": {},
   "outputs": [
    {
     "data": {
      "text/plain": [
       "array([1, 2, 3, 4, 5])"
      ]
     },
     "execution_count": 34,
     "metadata": {},
     "output_type": "execute_result"
    }
   ],
   "source": [
    "arr1"
   ]
  },
  {
   "cell_type": "code",
   "execution_count": 35,
   "id": "855417af",
   "metadata": {},
   "outputs": [
    {
     "data": {
      "text/plain": [
       "array([4, 5, 6, 7, 8])"
      ]
     },
     "execution_count": 35,
     "metadata": {},
     "output_type": "execute_result"
    }
   ],
   "source": [
    "arr2 = np.array([4,5,6,7,8])\n",
    "arr2"
   ]
  },
  {
   "cell_type": "code",
   "execution_count": 36,
   "id": "0b1a07c8",
   "metadata": {},
   "outputs": [
    {
     "data": {
      "text/plain": [
       "array([ 5,  7,  9, 11, 13])"
      ]
     },
     "execution_count": 36,
     "metadata": {},
     "output_type": "execute_result"
    }
   ],
   "source": [
    "# Addition\n",
    "arr1 + arr2"
   ]
  },
  {
   "cell_type": "code",
   "execution_count": 37,
   "id": "d970b736",
   "metadata": {},
   "outputs": [
    {
     "data": {
      "text/plain": [
       "array([-3, -3, -3, -3, -3])"
      ]
     },
     "execution_count": 37,
     "metadata": {},
     "output_type": "execute_result"
    }
   ],
   "source": [
    "# Subtrcaction\n",
    "arr1 - arr2"
   ]
  },
  {
   "cell_type": "code",
   "execution_count": 38,
   "id": "be0dee8e",
   "metadata": {},
   "outputs": [
    {
     "data": {
      "text/plain": [
       "array([ 2,  4,  6,  8, 10])"
      ]
     },
     "execution_count": 38,
     "metadata": {},
     "output_type": "execute_result"
    }
   ],
   "source": [
    "# Scalar Multiplication\n",
    "arr1*2"
   ]
  },
  {
   "cell_type": "code",
   "execution_count": 39,
   "id": "ddbcf4e4",
   "metadata": {},
   "outputs": [
    {
     "data": {
      "text/plain": [
       "array([ 4, 10, 18, 28, 40])"
      ]
     },
     "execution_count": 39,
     "metadata": {},
     "output_type": "execute_result"
    }
   ],
   "source": [
    "# Vector Multiplication\n",
    "arr1*arr2"
   ]
  },
  {
   "cell_type": "code",
   "execution_count": 40,
   "id": "0f4968ec",
   "metadata": {},
   "outputs": [
    {
     "data": {
      "text/plain": [
       "array([False, False, False,  True,  True])"
      ]
     },
     "execution_count": 40,
     "metadata": {},
     "output_type": "execute_result"
    }
   ],
   "source": [
    "#Boolean Series output\n",
    "arr1>3"
   ]
  },
  {
   "cell_type": "code",
   "execution_count": 41,
   "id": "25520e9b",
   "metadata": {},
   "outputs": [
    {
     "data": {
      "text/plain": [
       "array([[0, 1, 2],\n",
       "       [3, 4, 5]])"
      ]
     },
     "execution_count": 41,
     "metadata": {},
     "output_type": "execute_result"
    }
   ],
   "source": [
    "arr3 = np.arange(6).reshape(2,3)\n",
    "arr3"
   ]
  },
  {
   "cell_type": "code",
   "execution_count": 42,
   "id": "d762e55c",
   "metadata": {},
   "outputs": [
    {
     "data": {
      "text/plain": [
       "array([[ 6,  7],\n",
       "       [ 8,  9],\n",
       "       [10, 11]])"
      ]
     },
     "execution_count": 42,
     "metadata": {},
     "output_type": "execute_result"
    }
   ],
   "source": [
    "arr4 = np.arange(6,12).reshape(3,2)\n",
    "arr4"
   ]
  },
  {
   "cell_type": "code",
   "execution_count": 43,
   "id": "9a3fe5b3",
   "metadata": {},
   "outputs": [
    {
     "data": {
      "text/plain": [
       "array([[ 28,  31],\n",
       "       [100, 112]])"
      ]
     },
     "execution_count": 43,
     "metadata": {},
     "output_type": "execute_result"
    }
   ],
   "source": [
    "#Dot Product\n",
    "arr3.dot(arr4)\n",
    "# *condition: no. of columns of first array should be equal to no of rows of second array"
   ]
  },
  {
   "cell_type": "code",
   "execution_count": 44,
   "id": "cf3bcc66",
   "metadata": {},
   "outputs": [
    {
     "data": {
      "text/plain": [
       "11"
      ]
     },
     "execution_count": 44,
     "metadata": {},
     "output_type": "execute_result"
    }
   ],
   "source": [
    "arr4.max()"
   ]
  },
  {
   "cell_type": "code",
   "execution_count": 45,
   "id": "1937d850",
   "metadata": {},
   "outputs": [
    {
     "data": {
      "text/plain": [
       "6"
      ]
     },
     "execution_count": 45,
     "metadata": {},
     "output_type": "execute_result"
    }
   ],
   "source": [
    "arr4.min()"
   ]
  },
  {
   "cell_type": "code",
   "execution_count": 46,
   "id": "3edbc615",
   "metadata": {},
   "outputs": [
    {
     "data": {
      "text/plain": [
       "array([6, 7])"
      ]
     },
     "execution_count": 46,
     "metadata": {},
     "output_type": "execute_result"
    }
   ],
   "source": [
    "arr4.min(axis=0)\n",
    "# column wise minimum"
   ]
  },
  {
   "cell_type": "code",
   "execution_count": 47,
   "id": "72c785c5",
   "metadata": {},
   "outputs": [
    {
     "data": {
      "text/plain": [
       "array([ 6,  8, 10])"
      ]
     },
     "execution_count": 47,
     "metadata": {},
     "output_type": "execute_result"
    }
   ],
   "source": [
    "arr4.min(axis=1)\n",
    "# Row wise minimum"
   ]
  },
  {
   "cell_type": "code",
   "execution_count": 48,
   "id": "b64a6b99",
   "metadata": {},
   "outputs": [
    {
     "data": {
      "text/plain": [
       "51"
      ]
     },
     "execution_count": 48,
     "metadata": {},
     "output_type": "execute_result"
    }
   ],
   "source": [
    "arr4.sum()\n",
    "#sum of all elements"
   ]
  },
  {
   "cell_type": "code",
   "execution_count": 49,
   "id": "89ec9bcf",
   "metadata": {},
   "outputs": [
    {
     "data": {
      "text/plain": [
       "8.5"
      ]
     },
     "execution_count": 49,
     "metadata": {},
     "output_type": "execute_result"
    }
   ],
   "source": [
    "arr4.mean()"
   ]
  },
  {
   "cell_type": "code",
   "execution_count": 50,
   "id": "9f483d82",
   "metadata": {},
   "outputs": [
    {
     "data": {
      "text/plain": [
       "1.707825127659933"
      ]
     },
     "execution_count": 50,
     "metadata": {},
     "output_type": "execute_result"
    }
   ],
   "source": [
    "arr4.std()"
   ]
  },
  {
   "cell_type": "code",
   "execution_count": 51,
   "id": "0e8e7767",
   "metadata": {},
   "outputs": [
    {
     "data": {
      "text/plain": [
       "8.5"
      ]
     },
     "execution_count": 51,
     "metadata": {},
     "output_type": "execute_result"
    }
   ],
   "source": [
    "np.median(arr4)"
   ]
  },
  {
   "cell_type": "code",
   "execution_count": 52,
   "id": "bdf2601f",
   "metadata": {},
   "outputs": [
    {
     "data": {
      "text/plain": [
       "array([[  403.42879349,  1096.63315843],\n",
       "       [ 2980.95798704,  8103.08392758],\n",
       "       [22026.46579481, 59874.1417152 ]])"
      ]
     },
     "execution_count": 52,
     "metadata": {},
     "output_type": "execute_result"
    }
   ],
   "source": [
    "np.exp(arr4)"
   ]
  },
  {
   "cell_type": "markdown",
   "id": "fe9b92fe",
   "metadata": {},
   "source": [
    "# 6. Reshaping Numpy Arrays"
   ]
  },
  {
   "cell_type": "code",
   "execution_count": 53,
   "id": "bbfff907",
   "metadata": {},
   "outputs": [
    {
     "data": {
      "text/plain": [
       "array([[ 6,  7],\n",
       "       [ 8,  9],\n",
       "       [10, 11]])"
      ]
     },
     "execution_count": 53,
     "metadata": {},
     "output_type": "execute_result"
    }
   ],
   "source": [
    "arr4"
   ]
  },
  {
   "cell_type": "markdown",
   "id": "156bf2d8",
   "metadata": {},
   "source": [
    "### Reshape method"
   ]
  },
  {
   "cell_type": "code",
   "execution_count": 54,
   "id": "4c0ca811",
   "metadata": {},
   "outputs": [
    {
     "data": {
      "text/plain": [
       "array([[ 6,  7,  8],\n",
       "       [ 9, 10, 11]])"
      ]
     },
     "execution_count": 54,
     "metadata": {},
     "output_type": "execute_result"
    }
   ],
   "source": [
    "arr4.reshape(2,3)"
   ]
  },
  {
   "cell_type": "markdown",
   "id": "f0da3079",
   "metadata": {},
   "source": [
    "### Ravel method"
   ]
  },
  {
   "cell_type": "code",
   "execution_count": 55,
   "id": "79000e51",
   "metadata": {},
   "outputs": [
    {
     "data": {
      "text/plain": [
       "array([ 6,  7,  8,  9, 10, 11])"
      ]
     },
     "execution_count": 55,
     "metadata": {},
     "output_type": "execute_result"
    }
   ],
   "source": [
    "arr4.ravel()\n",
    "#converts in 1D Array for any n-dimensional araay"
   ]
  },
  {
   "cell_type": "markdown",
   "id": "3c37541c",
   "metadata": {},
   "source": [
    "### Transpose method"
   ]
  },
  {
   "cell_type": "code",
   "execution_count": 56,
   "id": "7c9164bf",
   "metadata": {},
   "outputs": [
    {
     "data": {
      "text/plain": [
       "array([[ 6,  8, 10],\n",
       "       [ 7,  9, 11]])"
      ]
     },
     "execution_count": 56,
     "metadata": {},
     "output_type": "execute_result"
    }
   ],
   "source": [
    "arr4.transpose()\n",
    "#rows and columns get interchanged"
   ]
  },
  {
   "cell_type": "markdown",
   "id": "1fa8b0d6",
   "metadata": {},
   "source": [
    "### Stacking"
   ]
  },
  {
   "cell_type": "code",
   "execution_count": 57,
   "id": "e8a34b01",
   "metadata": {},
   "outputs": [
    {
     "data": {
      "text/plain": [
       "array([[12, 13, 14],\n",
       "       [15, 16, 17]])"
      ]
     },
     "execution_count": 57,
     "metadata": {},
     "output_type": "execute_result"
    }
   ],
   "source": [
    "arr5 = np.arange(12,18).reshape(2,3)\n",
    "arr5"
   ]
  },
  {
   "cell_type": "code",
   "execution_count": 58,
   "id": "ced35a64",
   "metadata": {},
   "outputs": [
    {
     "data": {
      "text/plain": [
       "array([[0, 1, 2],\n",
       "       [3, 4, 5]])"
      ]
     },
     "execution_count": 58,
     "metadata": {},
     "output_type": "execute_result"
    }
   ],
   "source": [
    "arr3"
   ]
  },
  {
   "cell_type": "code",
   "execution_count": 59,
   "id": "5702d61f",
   "metadata": {},
   "outputs": [
    {
     "data": {
      "text/plain": [
       "array([[ 0,  1,  2, 12, 13, 14],\n",
       "       [ 3,  4,  5, 15, 16, 17]])"
      ]
     },
     "execution_count": 59,
     "metadata": {},
     "output_type": "execute_result"
    }
   ],
   "source": [
    "#Horizontal Stack\n",
    "np.hstack((arr3,arr5))"
   ]
  },
  {
   "cell_type": "code",
   "execution_count": 60,
   "id": "5bf8125e",
   "metadata": {},
   "outputs": [
    {
     "data": {
      "text/plain": [
       "array([[ 0,  1,  2],\n",
       "       [ 3,  4,  5],\n",
       "       [12, 13, 14],\n",
       "       [15, 16, 17]])"
      ]
     },
     "execution_count": 60,
     "metadata": {},
     "output_type": "execute_result"
    }
   ],
   "source": [
    "#Vertical Stack\n",
    "np.vstack((arr3,arr5))"
   ]
  },
  {
   "cell_type": "markdown",
   "id": "02f10dc2",
   "metadata": {},
   "source": [
    "### Splitting"
   ]
  },
  {
   "cell_type": "code",
   "execution_count": 61,
   "id": "7c006d7d",
   "metadata": {},
   "outputs": [
    {
     "data": {
      "text/plain": [
       "[array([[0, 1, 2]]), array([[3, 4, 5]])]"
      ]
     },
     "execution_count": 61,
     "metadata": {},
     "output_type": "execute_result"
    }
   ],
   "source": [
    "#Vertical Splitting\n",
    "np.vsplit(arr3,2)"
   ]
  },
  {
   "cell_type": "code",
   "execution_count": 62,
   "id": "3866919d",
   "metadata": {},
   "outputs": [
    {
     "data": {
      "text/plain": [
       "[array([[12],\n",
       "        [15]]),\n",
       " array([[13],\n",
       "        [16]]),\n",
       " array([[14],\n",
       "        [17]])]"
      ]
     },
     "execution_count": 62,
     "metadata": {},
     "output_type": "execute_result"
    }
   ],
   "source": [
    "#Horizontal Splitting\n",
    "np.hsplit(arr5,3)"
   ]
  }
 ],
 "metadata": {
  "kernelspec": {
   "display_name": "Python 3 (ipykernel)",
   "language": "python",
   "name": "python3"
  },
  "language_info": {
   "codemirror_mode": {
    "name": "ipython",
    "version": 3
   },
   "file_extension": ".py",
   "mimetype": "text/x-python",
   "name": "python",
   "nbconvert_exporter": "python",
   "pygments_lexer": "ipython3",
   "version": "3.10.2"
  }
 },
 "nbformat": 4,
 "nbformat_minor": 5
}
